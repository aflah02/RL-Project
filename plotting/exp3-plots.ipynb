{
 "cells": [
  {
   "cell_type": "code",
   "execution_count": 1,
   "metadata": {},
   "outputs": [],
   "source": [
    "import json\n",
    "import numpy as np\n",
    "import plotly.graph_objects as go"
   ]
  },
  {
   "cell_type": "code",
   "execution_count": 42,
   "metadata": {},
   "outputs": [],
   "source": [
    "exp3_10 = json.load(open(\"../Exp3_10_Init/trainer_state.json\"))\n",
    "exp3_0 = json.load(open(\"../Exp3_0_Init/trainer_state.json\"))\n",
    "explore = json.load(open(\"../Explore_Only/trainer_state.json\"))"
   ]
  },
  {
   "cell_type": "code",
   "execution_count": 56,
   "metadata": {},
   "outputs": [],
   "source": [
    "datasets = ['adversarial_qa/dbidaf', 'ag_news', 'amazon_polarity', 'cnn_dailymail/3.0.0', 'common_gen', 'cos_e/v1.11', 'glue/mrpc', 'kilt_tasks/hotpotqa']"
   ]
  },
  {
   "cell_type": "code",
   "execution_count": 82,
   "metadata": {},
   "outputs": [],
   "source": [
    "def plot(data: list, target_column: str = \"cumulative_estimated_reward\", fig = None, strategy: str = \"exp3_10\"):\n",
    "    if target_column not in data[0] and target_column not in (\"eval_accuracy\"):\n",
    "        raise ValueError(f\"target_column {target_column} not in data\")\n",
    "\n",
    "    if target_column == \"cumulative_estimated_reward\" or target_column == \"probabilities\" or target_column == \"samples_seen_per_dataset\":\n",
    "\n",
    "        if target_column == \"cumulative_estimated_reward\":\n",
    "            title = \"Cumulative Estimated Reward\"\n",
    "            yaxis_title = \"Cumulative Estimated Reward\"\n",
    "        elif target_column == \"probabilities\":\n",
    "            title = \"Probabilities\"\n",
    "            yaxis_title = \"Probability\"\n",
    "        elif target_column == \"samples_seen_per_dataset\":\n",
    "            title = \"Samples Seen Per Dataset\"\n",
    "            yaxis_title = \"Samples Seen\"\n",
    "\n",
    "        rewards = []\n",
    "        steps = []\n",
    "        for i in range(len(data)):\n",
    "            if target_column in data[i]:\n",
    "                rewards.append(list(data[i][target_column].values()))\n",
    "                steps.append(data[i][\"step\"])\n",
    "        rewards = np.array(rewards)\n",
    "\n",
    "        fig = go.Figure()\n",
    "\n",
    "        if rewards.shape[1] != len(datasets):\n",
    "            explore_datasets = ['adversarial_qa/dbidaf', 'ag_news', 'amazon_polarity', 'cnn_dailymail/3.0.0', 'common_gen', 'copa', 'cos_e/v1.11', 'glue/mrpc', 'kilt_tasks/hotpotqa']\n",
    "\n",
    "            for i in range(rewards.shape[1]):\n",
    "                fig.add_trace(\n",
    "                    go.Scatter(\n",
    "                        x=steps,\n",
    "                        y=rewards[:, i],\n",
    "                        mode=\"lines\",\n",
    "                        name=f\"{explore_datasets[i]}\"\n",
    "                    )\n",
    "                )\n",
    "        else:\n",
    "            for i in range(rewards.shape[1]):\n",
    "                fig.add_trace(\n",
    "                    go.Scatter(\n",
    "                        x=steps,\n",
    "                        y=rewards[:, i],\n",
    "                        mode=\"lines\",\n",
    "                        name=f\"{datasets[i]}\"\n",
    "                    )\n",
    "                )\n",
    "\n",
    "        fig.update_layout(\n",
    "            title=title,\n",
    "            xaxis_title=\"Steps\",\n",
    "            yaxis_title=yaxis_title\n",
    "        )\n",
    "\n",
    "        # increase thickness and boldness of lines\n",
    "        for i in range(len(fig.data)):\n",
    "            fig.data[i].line.width = 3\n",
    "            fig.data[i].line.dash = \"solid\"\n",
    "\n",
    "        return fig\n",
    "    \n",
    "    elif target_column == \"eval_accuracy\":\n",
    "        accuracies = []\n",
    "        steps = []\n",
    "\n",
    "        for i in range(len(data)):\n",
    "            if \"eval_accuracy\" in data[i]:\n",
    "                accuracies.append(data[i][\"eval_accuracy\"])\n",
    "                steps.append(data[i][\"step\"])\n",
    "        accuracies = np.array(accuracies)\n",
    "\n",
    "        if fig is None:\n",
    "            fig = go.Figure()\n",
    "\n",
    "        fig.add_trace(\n",
    "            go.Scatter(\n",
    "                x=steps,\n",
    "                y=accuracies,\n",
    "                mode=\"lines\",\n",
    "                name=strategy\n",
    "            )\n",
    "        )\n",
    "\n",
    "        fig.update_layout(\n",
    "            title=\"Accuracy\",\n",
    "            xaxis_title=\"Steps\",\n",
    "            yaxis_title=\"Accuracy\"\n",
    "        )\n",
    "\n",
    "        return fig\n",
    "\n",
    "    elif target_column == 'loss':\n",
    "        losses = []\n",
    "        steps = []\n",
    "\n",
    "        for i in range(len(data)):\n",
    "            if \"loss\" in data[i]:\n",
    "                losses.append(data[i][\"loss\"])\n",
    "                steps.append(data[i][\"step\"])\n",
    "        losses = np.array(losses)\n",
    "        \n",
    "        if fig is None:\n",
    "            fig = go.Figure()\n",
    "\n",
    "        fig.add_trace(\n",
    "            go.Scatter(\n",
    "                x=steps,\n",
    "                y=losses,\n",
    "                mode=\"lines\",\n",
    "                name=strategy\n",
    "            )\n",
    "        )\n",
    "\n",
    "        fig.update_layout(\n",
    "            title=\"Loss\",\n",
    "            xaxis_title=\"Steps\",\n",
    "            yaxis_title=\"Loss\"\n",
    "        )\n",
    "\n",
    "        return fig"
   ]
  },
  {
   "cell_type": "code",
   "execution_count": 83,
   "metadata": {},
   "outputs": [],
   "source": [
    "fig = plot(exp3_10['log_history'])\n",
    "fig.write_image(\"assets/exp3_10-cer.png\", width=1200, height=500, scale = 10)"
   ]
  },
  {
   "cell_type": "code",
   "execution_count": 84,
   "metadata": {},
   "outputs": [],
   "source": [
    "fig = plot(exp3_10['log_history'], target_column=\"probabilities\")\n",
    "fig.write_image(\"assets/exp3_10-probs.png\", width=1200, height=500, scale = 10)"
   ]
  },
  {
   "cell_type": "code",
   "execution_count": 85,
   "metadata": {},
   "outputs": [],
   "source": [
    "fig = plot(exp3_10['log_history'], target_column=\"samples_seen_per_dataset\")\n",
    "fig.write_image(\"assets/exp3_10-samples-seen.png\", width=1200, height=500, scale = 10)"
   ]
  },
  {
   "cell_type": "code",
   "execution_count": 87,
   "metadata": {},
   "outputs": [],
   "source": [
    "fig = plot(exp3_0['log_history'])\n",
    "fig.write_image(\"assets/exp3_0-cer.png\", width=1200, height=500, scale = 10)"
   ]
  },
  {
   "cell_type": "code",
   "execution_count": 88,
   "metadata": {},
   "outputs": [],
   "source": [
    "fig = plot(exp3_0['log_history'], target_column=\"samples_seen_per_dataset\")\n",
    "fig.write_image(\"assets/exp3_0-samples-seen.png\", width=1200, height=500, scale = 10)"
   ]
  },
  {
   "cell_type": "code",
   "execution_count": 89,
   "metadata": {},
   "outputs": [],
   "source": [
    "fig = plot(exp3_0['log_history'], target_column=\"probabilities\")\n",
    "fig.write_image(\"assets/exp3_0-probs.png\", width=1200, height=500, scale = 10)"
   ]
  },
  {
   "cell_type": "code",
   "execution_count": null,
   "metadata": {},
   "outputs": [],
   "source": [
    "fig = plot(explore['log_history'], target_column=\"samples_seen_per_dataset\")\n",
    "fig.write_image(\"assets/explore_only-samples-seen.png\", width=1200, height=500, scale = 10)"
   ]
  },
  {
   "cell_type": "code",
   "execution_count": 94,
   "metadata": {},
   "outputs": [],
   "source": [
    "fig = plot(exp3_10['log_history'], target_column=\"eval_accuracy\", strategy=\"exp3_10\")\n",
    "fig = plot(exp3_0['log_history'], target_column=\"eval_accuracy\", fig = fig, strategy=\"exp3_0\")\n",
    "fig = plot(explore['log_history'], target_column=\"eval_accuracy\", fig = fig, strategy=\"explore\")\n",
    "\n",
    "fig.write_image(\"assets/accuracies.png\", width=1200, height=500, scale = 10)"
   ]
  },
  {
   "cell_type": "code",
   "execution_count": 97,
   "metadata": {},
   "outputs": [],
   "source": [
    "fig = plot(exp3_10['log_history'], target_column=\"loss\")\n",
    "fig = plot(exp3_0['log_history'], target_column=\"loss\", fig = fig, strategy=\"exp3_0\")\n",
    "fig = plot(explore['log_history'], target_column=\"loss\", fig = fig, strategy=\"explore\")\n",
    "\n",
    "fig.write_image(\"assets/losses.png\", width=1200, height=500, scale = 10)"
   ]
  }
 ],
 "metadata": {
  "kernelspec": {
   "display_name": "venv",
   "language": "python",
   "name": "python3"
  },
  "language_info": {
   "codemirror_mode": {
    "name": "ipython",
    "version": 3
   },
   "file_extension": ".py",
   "mimetype": "text/x-python",
   "name": "python",
   "nbconvert_exporter": "python",
   "pygments_lexer": "ipython3",
   "version": "3.10.12"
  }
 },
 "nbformat": 4,
 "nbformat_minor": 2
}
